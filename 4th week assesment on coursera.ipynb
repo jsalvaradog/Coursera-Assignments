{
    "cells": [
        {
            "metadata": {
                "collapsed": true
            },
            "cell_type": "markdown",
            "source": "My Jupyter Notebook on IBM Watson Studio"
        },
        {
            "metadata": {},
            "cell_type": "markdown",
            "source": "**Juan Sebastian Alvarado Galeano**\n\nM.Sc. Student"
        },
        {
            "metadata": {},
            "cell_type": "markdown",
            "source": "*I am interested in data science becacuse I like programming and computing tasks as well as the idea of work for new discoveries hidden on data, which currently seems like a huge challenge which is also something I like, do complicated stuffs.*"
        },
        {
            "metadata": {},
            "cell_type": "markdown",
            "source": "### The code computes the cube of 14"
        },
        {
            "metadata": {},
            "cell_type": "code",
            "source": "14**3",
            "execution_count": 7,
            "outputs": [
                {
                    "output_type": "execute_result",
                    "execution_count": 7,
                    "data": {
                        "text/plain": "2744"
                    },
                    "metadata": {}
                }
            ]
        },
        {
            "metadata": {},
            "cell_type": "markdown",
            "source": "\nThis is some info. First I've drawn a horizontal rule:\n*******\nthen, let me list this:\n\n&nbsp; &nbsp; 1. Item number 1\n\n&nbsp; &nbsp; 2. Item number two.\n\n\nto end. let's see a nice picture\n\n<img src=\"https://indiehoy.com/wp-content/uploads/2018/09/at-finale_recap3k9q2js6z-747x420.png\">\n"
        },
        {
            "metadata": {},
            "cell_type": "code",
            "source": "",
            "execution_count": null,
            "outputs": []
        }
    ],
    "metadata": {
        "kernelspec": {
            "name": "python3",
            "display_name": "Python 3.6",
            "language": "python"
        },
        "language_info": {
            "name": "python",
            "version": "3.6.9",
            "mimetype": "text/x-python",
            "codemirror_mode": {
                "name": "ipython",
                "version": 3
            },
            "pygments_lexer": "ipython3",
            "nbconvert_exporter": "python",
            "file_extension": ".py"
        }
    },
    "nbformat": 4,
    "nbformat_minor": 1
}